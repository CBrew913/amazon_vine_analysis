{
  "nbformat": 4,
  "nbformat_minor": 0,
  "metadata": {
    "colab": {
      "provenance": [],
      "collapsed_sections": [
        "Rm685_xasO-r",
        "cyBsySGuY-9V",
        "2yUSe55VY-9t"
      ]
    },
    "kernelspec": {
      "name": "python3",
      "display_name": "Python 3"
    },
    "language_info": {
      "name": "python"
    }
  },
  "cells": [
    {
      "cell_type": "markdown",
      "source": [
        "### Start Spark Session"
      ],
      "metadata": {
        "id": "Rm685_xasO-r"
      }
    },
    {
      "cell_type": "code",
      "execution_count": null,
      "metadata": {
        "id": "eoHviYK-Hxcv"
      },
      "outputs": [],
      "source": [
        "import os\n",
        "\n",
        "# Find the latest versions of\n",
        "#   Spark & Hadoop:  https://www.apache.org/dist/spark/\n",
        "#                    https://spark.apache.org/downloads.html\n",
        "#   Postgres driver: https://jdbc.postgresql.org/\n",
        "os.environ['HADOOP_VERSION']   = hadoop_version   = 'hadoop3'\n",
        "os.environ['SPARK_VERSION']    = spark_version    = 'spark-3.3.0'\n",
        "os.environ['POSTGRES_VERSION'] = postgres_version = 'postgresql-42.5.0'\n",
        "\n",
        "! apt update\n",
        "! apt full-upgrade\n",
        "! apt autoremove\n",
        "\n",
        "# Install Java\n",
        "! apt install openjdk-11-jdk-headless > /dev/null\n",
        "os.environ['JAVA_HOME']  = '/usr/lib/jvm/java-11-openjdk-amd64'\n",
        "\n",
        "# Install Spark\n",
        "! wget https://www.apache.org/dist/spark/$SPARK_VERSION/$SPARK_VERSION-bin-$HADOOP_VERSION.tgz\n",
        "! tar xf $SPARK_VERSION-bin-$HADOOP_VERSION.tgz\n",
        "os.environ['SPARK_HOME'] = f'/content/{spark_version}-bin-{hadoop_version}'\n",
        "! pip install findspark\n",
        "\n",
        "# Install Postgres driver\n",
        "! wget https://jdbc.postgresql.org/download/$POSTGRES_VERSION.jar\n",
        "\n",
        "# Install AWS's Boto3\n",
        "! pip install boto3\n",
        "\n",
        "! pwd && ls -al\n",
        "\n",
        "# Start a SparkSession\n",
        "import findspark\n",
        "findspark.init()\n",
        "\n",
        "!wget https://jdbc.postgresql.org/download/postgresql-42.2.16.jar\n",
        "\n",
        "from   pyspark.sql import SparkSession\n",
        "import boto3\n",
        "\n",
        "# <NAME THE APP>\n",
        "spark = SparkSession.builder \\\n",
        "  .appName('Vine-Review-Analysis') \\\n",
        "  .config('spark.driver.extraClassPath', f'/content/{postgres_version}.jar') \\\n",
        "  .getOrCreate()\n",
        "  \n",
        "spark"
      ]
    },
    {
      "cell_type": "markdown",
      "metadata": {
        "id": "cyBsySGuY-9V"
      },
      "source": [
        "### Load Amazon Data into Spark DataFrame"
      ]
    },
    {
      "cell_type": "code",
      "source": [
        "from pyspark import SparkFiles\n",
        "url = \"https://csbrew172-bucket.s3.amazonaws.com/outdoors_reviews.tsv\"\n",
        "spark.sparkContext.addFile(url)\n",
        "df = spark.read.option(\"encoding\", \"UTF-8\").csv(SparkFiles.get(\"outdoors_reviews.tsv\"), sep=\"\\t\", header=True, inferSchema=True)\n",
        "df.show(10)"
      ],
      "metadata": {
        "id": "GID-rEzEsm4a"
      },
      "execution_count": null,
      "outputs": []
    },
    {
      "cell_type": "markdown",
      "metadata": {
        "id": "2yUSe55VY-9t"
      },
      "source": [
        "### Create DataFrames to match tables"
      ]
    },
    {
      "cell_type": "code",
      "source": [
        "# Create the vine_table DataFrame\n",
        "vine_df = df.select([\"review_id\", \"star_rating\", \"helpful_votes\", \"total_votes\", \"vine\", \"verified_purchase\"])\n",
        "vine_df.show(5)"
      ],
      "metadata": {
        "colab": {
          "base_uri": "https://localhost:8080/"
        },
        "id": "Aw6yf7JIs_K2",
        "outputId": "656026b4-196b-4a75-99c0-75d4c0f16eeb"
      },
      "execution_count": 4,
      "outputs": [
        {
          "output_type": "stream",
          "name": "stdout",
          "text": [
            "+--------------+-----------+-------------+-----------+----+-----------------+\n",
            "|     review_id|star_rating|helpful_votes|total_votes|vine|verified_purchase|\n",
            "+--------------+-----------+-------------+-----------+----+-----------------+\n",
            "|R35T75OLUGHL5C|          4|            0|          0|   N|                Y|\n",
            "|R2BV735O46BN33|          5|            0|          0|   N|                Y|\n",
            "|R2NBEUGPQQGXP1|          4|            0|          0|   N|                Y|\n",
            "|R17LLAOJ8ITK0S|          3|            1|          1|   N|                Y|\n",
            "|R39PEQBT5ISEF4|          1|            0|          0|   N|                Y|\n",
            "+--------------+-----------+-------------+-----------+----+-----------------+\n",
            "only showing top 5 rows\n",
            "\n"
          ]
        }
      ]
    },
    {
      "cell_type": "markdown",
      "source": [
        "### Perform Vine Analysis"
      ],
      "metadata": {
        "id": "K5Svrt6WtL5K"
      }
    },
    {
      "cell_type": "markdown",
      "source": [
        "Filtering Vine data"
      ],
      "metadata": {
        "id": "4xhPsSRdxb3m"
      }
    },
    {
      "cell_type": "code",
      "source": [
        "from pyspark.sql.functions import col\n",
        "\n",
        "# Filter for reviews with more than 20 votes\n",
        "votes_df = vine_df.filter(col(\"total_votes\") > 20)\n",
        "\n",
        "# Filter for reviews where helpful votes were at leat 50% of total votes\n",
        "helpful_df = votes_df.filter((col(\"helpful_votes\") / col(\"total_votes\")) >= 0.5)\n",
        "\n",
        "# Filter for reviews in the Vine program\n",
        "in_vine_df = helpful_df.filter(col(\"vine\") == \"Y\")\n",
        "\n",
        "# Filter for reviews not in the Vine program\n",
        "not_vine_df = helpful_df.filter(col(\"vine\") == \"N\")"
      ],
      "metadata": {
        "id": "PyrfqOWrtRcP"
      },
      "execution_count": 9,
      "outputs": []
    },
    {
      "cell_type": "markdown",
      "source": [
        "Total Review Count: Paid vs Unpaid"
      ],
      "metadata": {
        "id": "E3Xnoh7kxt6O"
      }
    },
    {
      "cell_type": "code",
      "source": [
        "# Determine total reviews in Vine\n",
        "paid_total = in_vine_df.count()\n",
        "print(paid_total)"
      ],
      "metadata": {
        "colab": {
          "base_uri": "https://localhost:8080/"
        },
        "id": "1LT_N-JOwVyO",
        "outputId": "a821e04d-a281-408a-d56c-6479f9b4fba6"
      },
      "execution_count": 14,
      "outputs": [
        {
          "output_type": "stream",
          "name": "stdout",
          "text": [
            "103\n"
          ]
        }
      ]
    },
    {
      "cell_type": "code",
      "source": [
        "# Determine total reviews not in Vine\n",
        "unpaid_total = not_vine_df.count()\n",
        "print(unpaid_total)"
      ],
      "metadata": {
        "colab": {
          "base_uri": "https://localhost:8080/"
        },
        "id": "K3qZ3C2gxSey",
        "outputId": "50fdbfa8-9c50-47e6-9c23-5031a5d4ef92"
      },
      "execution_count": 15,
      "outputs": [
        {
          "output_type": "stream",
          "name": "stdout",
          "text": [
            "37441\n"
          ]
        }
      ]
    },
    {
      "cell_type": "markdown",
      "source": [
        "5-Star Review Count: Paid vs Unpaid"
      ],
      "metadata": {
        "id": "xjPlh-cbx5df"
      }
    },
    {
      "cell_type": "code",
      "source": [
        "# Determine 5-star reviews in Vine\n",
        "paid_5_stars = in_vine_df.filter(col(\"star_rating\") == 5).count()\n",
        "print(paid_5_stars)"
      ],
      "metadata": {
        "colab": {
          "base_uri": "https://localhost:8080/"
        },
        "id": "hWpnZ9BXxWIR",
        "outputId": "3bddb310-e561-4fd9-8e44-d1cb2257d37a"
      },
      "execution_count": 16,
      "outputs": [
        {
          "output_type": "stream",
          "name": "stdout",
          "text": [
            "55\n"
          ]
        }
      ]
    },
    {
      "cell_type": "code",
      "source": [
        "# Determine 5-star reviews not in Vine\n",
        "unpaid_5_stars = not_vine_df.filter(col(\"star_rating\") == 5).count()\n",
        "print(unpaid_5_stars)"
      ],
      "metadata": {
        "colab": {
          "base_uri": "https://localhost:8080/"
        },
        "id": "ZACMu99LyYwe",
        "outputId": "adf9290d-d01d-4ace-f7b6-3acfb1705c31"
      },
      "execution_count": 17,
      "outputs": [
        {
          "output_type": "stream",
          "name": "stdout",
          "text": [
            "19736\n"
          ]
        }
      ]
    },
    {
      "cell_type": "markdown",
      "source": [
        "5-Star Review Percentage: Paid vs Unpaid"
      ],
      "metadata": {
        "id": "xCTMiaiMygS3"
      }
    },
    {
      "cell_type": "code",
      "source": [
        "# Determine percentage of 5-star reviews in Vine\n",
        "paid_percent = paid_5_stars / paid_total\n",
        "print(\"{0:.1%}\".format(paid_percent))"
      ],
      "metadata": {
        "colab": {
          "base_uri": "https://localhost:8080/"
        },
        "id": "b_mCpS16yn6a",
        "outputId": "8c9de4e7-d44f-47d0-8fbf-bd9a652cb328"
      },
      "execution_count": 22,
      "outputs": [
        {
          "output_type": "stream",
          "name": "stdout",
          "text": [
            "53.4%\n"
          ]
        }
      ]
    },
    {
      "cell_type": "code",
      "source": [
        "# Determine percentage of 5-star reviews not in Vine\n",
        "unpaid_percent = unpaid_5_stars / unpaid_total\n",
        "print(\"{0:.1%}\".format(unpaid_percent))"
      ],
      "metadata": {
        "colab": {
          "base_uri": "https://localhost:8080/"
        },
        "id": "N6QGr1Ws0wAq",
        "outputId": "27a3895c-4ef6-4dce-ba04-0b62e2b09340"
      },
      "execution_count": 23,
      "outputs": [
        {
          "output_type": "stream",
          "name": "stdout",
          "text": [
            "52.7%\n"
          ]
        }
      ]
    }
  ]
}